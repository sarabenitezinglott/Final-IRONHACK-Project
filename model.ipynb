{
 "cells": [
  {
   "cell_type": "code",
   "execution_count": 18,
   "metadata": {},
   "outputs": [],
   "source": [
    "import warnings\n",
    "warnings.filterwarnings(\"ignore\")\n",
    "\n",
    "import numpy as np\n",
    "import pandas as pd\n",
    "import tensorflow as tf\n",
    "tf.keras.backend.set_learning_phase(1)\n",
    "from PIL import Image\n",
    "from keras import backend as K \n",
    "from keras.preprocessing.image import ImageDataGenerator \n",
    "import matplotlib.pyplot as plt\n",
    "import os, sys, random, gc\n",
    "\n",
    "from src import exploration\n",
    "from src import pre_process\n",
    "from sklearn.model_selection import train_test_split"
   ]
  },
  {
   "cell_type": "markdown",
   "metadata": {},
   "source": [
    "All .tiff images are stained with `Martius Scarlet Blue (MSB) stain`. The two major acute ischemic stroke (AIS) etiology subtypes and their main cellular differences are:\n",
    "\n",
    "1. **Cardio Embolism (CE):** RBCs=47.67%, WBCs=4.22%, F= 29.19%, P=18.21%\n",
    "\n",
    "2. **Artery Atherosclerosis (AA):** RBCs=42.58%, WBCs=3.12%, F=31.31%, P=20.81%\n",
    "\n",
    "\n",
    "<font size=\"1,5\"> [Abbasi M, Fitzgerald S, Ayers-Ringler J, Espina V, Mueller C, Rucker S, Kadirvel R, Kallmes D, Brinjikji W. Proteomic Analysis of Cardioembolic and Large Artery Atherosclerotic Clots Using Reverse Phase Protein Array Technology Reveals Key Cellular Interactions Within Clot Microenvironments. Cureus. 2021 Feb 22;13(2):e13499. doi: 10.7759/cureus.13499. PMID: 33777584; PMCID: PMC7990677.](https://www.ncbi.nlm.nih.gov/pmc/articles/PMC7990677/)</font>\n",
    "\n",
    "Given this insight, we can maintain the distinct colors in the images since each cellular subtype is stained differently. Rather than preserving every pixel, we can reduce their size to enhance the efficiency of the neural network (NN) processing."
   ]
  },
  {
   "cell_type": "markdown",
   "metadata": {},
   "source": [
    "![CE](./images/CEexample1.png)"
   ]
  },
  {
   "cell_type": "markdown",
   "metadata": {},
   "source": [
    "`Data preprocess:`\n",
    "\n",
    "\n",
    "`      1. Split dataset into train_x, train_y, test_x, test_y`"
   ]
  },
  {
   "cell_type": "code",
   "execution_count": 19,
   "metadata": {},
   "outputs": [],
   "source": [
    "train1 = pd.read_csv(\"../Final-IRONHACK-Project/data/train1.csv\")\n",
    "train_x, valid_x, train_y, valid_y = pre_process.train_valid_split(train1)"
   ]
  },
  {
   "cell_type": "code",
   "execution_count": 20,
   "metadata": {},
   "outputs": [
    {
     "data": {
      "text/plain": [
       "label\n",
       "CE     0.72471\n",
       "LAA    0.27529\n",
       "Name: count, dtype: float64"
      ]
     },
     "execution_count": 20,
     "metadata": {},
     "output_type": "execute_result"
    }
   ],
   "source": [
    "train_x['label'].value_counts() / len(train_x.label)"
   ]
  },
  {
   "cell_type": "code",
   "execution_count": 21,
   "metadata": {},
   "outputs": [
    {
     "data": {
      "text/html": [
       "<div>\n",
       "<style scoped>\n",
       "    .dataframe tbody tr th:only-of-type {\n",
       "        vertical-align: middle;\n",
       "    }\n",
       "\n",
       "    .dataframe tbody tr th {\n",
       "        vertical-align: top;\n",
       "    }\n",
       "\n",
       "    .dataframe thead th {\n",
       "        text-align: right;\n",
       "    }\n",
       "</style>\n",
       "<table border=\"1\" class=\"dataframe\">\n",
       "  <thead>\n",
       "    <tr style=\"text-align: right;\">\n",
       "      <th></th>\n",
       "      <th>image_id</th>\n",
       "      <th>center_id</th>\n",
       "      <th>patient_id</th>\n",
       "      <th>image_num</th>\n",
       "      <th>label</th>\n",
       "      <th>new_file_path</th>\n",
       "    </tr>\n",
       "  </thead>\n",
       "  <tbody>\n",
       "    <tr>\n",
       "      <th>511</th>\n",
       "      <td>af4dd6_0</td>\n",
       "      <td>4</td>\n",
       "      <td>af4dd6</td>\n",
       "      <td>0</td>\n",
       "      <td>CE</td>\n",
       "      <td>D:/bootcamp/original/train_folder/af4dd6_0.tif</td>\n",
       "    </tr>\n",
       "  </tbody>\n",
       "</table>\n",
       "</div>"
      ],
      "text/plain": [
       "     image_id  center_id patient_id  image_num label  \\\n",
       "511  af4dd6_0          4     af4dd6          0    CE   \n",
       "\n",
       "                                      new_file_path  \n",
       "511  D:/bootcamp/original/train_folder/af4dd6_0.tif  "
      ]
     },
     "execution_count": 21,
     "metadata": {},
     "output_type": "execute_result"
    }
   ],
   "source": [
    "train2 = exploration.Labeling_images(train_x)\n",
    "train3 = train2.class_again_train()\n",
    "train3.sample(1)"
   ]
  },
  {
   "cell_type": "code",
   "execution_count": 22,
   "metadata": {},
   "outputs": [
    {
     "data": {
      "text/plain": [
       "label\n",
       "CE     0.728477\n",
       "LAA    0.271523\n",
       "Name: count, dtype: float64"
      ]
     },
     "execution_count": 22,
     "metadata": {},
     "output_type": "execute_result"
    }
   ],
   "source": [
    "valid_x['label'].value_counts() / len(valid_x.label)"
   ]
  },
  {
   "cell_type": "code",
   "execution_count": 23,
   "metadata": {},
   "outputs": [
    {
     "data": {
      "text/html": [
       "<div>\n",
       "<style scoped>\n",
       "    .dataframe tbody tr th:only-of-type {\n",
       "        vertical-align: middle;\n",
       "    }\n",
       "\n",
       "    .dataframe tbody tr th {\n",
       "        vertical-align: top;\n",
       "    }\n",
       "\n",
       "    .dataframe thead th {\n",
       "        text-align: right;\n",
       "    }\n",
       "</style>\n",
       "<table border=\"1\" class=\"dataframe\">\n",
       "  <thead>\n",
       "    <tr style=\"text-align: right;\">\n",
       "      <th></th>\n",
       "      <th>image_id</th>\n",
       "      <th>center_id</th>\n",
       "      <th>patient_id</th>\n",
       "      <th>image_num</th>\n",
       "      <th>label</th>\n",
       "      <th>new_file_path</th>\n",
       "    </tr>\n",
       "  </thead>\n",
       "  <tbody>\n",
       "    <tr>\n",
       "      <th>717</th>\n",
       "      <td>f7fb11_0</td>\n",
       "      <td>11</td>\n",
       "      <td>f7fb11</td>\n",
       "      <td>0</td>\n",
       "      <td>LAA</td>\n",
       "      <td>D:/bootcamp/original/val_folder1/f7fb11_0.tif</td>\n",
       "    </tr>\n",
       "  </tbody>\n",
       "</table>\n",
       "</div>"
      ],
      "text/plain": [
       "     image_id  center_id patient_id  image_num label  \\\n",
       "717  f7fb11_0         11     f7fb11          0   LAA   \n",
       "\n",
       "                                     new_file_path  \n",
       "717  D:/bootcamp/original/val_folder1/f7fb11_0.tif  "
      ]
     },
     "execution_count": 23,
     "metadata": {},
     "output_type": "execute_result"
    }
   ],
   "source": [
    "val = exploration.Labeling_images(valid_x)\n",
    "val2 = val.class_again_val()\n",
    "val2.sample(1)"
   ]
  },
  {
   "cell_type": "code",
   "execution_count": 24,
   "metadata": {},
   "outputs": [],
   "source": [
    "train3.to_csv(\"../Final-IRONHACK-Project/data/train_xdef.csv\", index = False)"
   ]
  },
  {
   "cell_type": "code",
   "execution_count": 25,
   "metadata": {},
   "outputs": [],
   "source": [
    "val2.to_csv(\"../Final-IRONHACK-Project/data/valid_xdef.csv\", index = False)"
   ]
  },
  {
   "cell_type": "markdown",
   "metadata": {},
   "source": [
    "`2. Create folders for each label:`"
   ]
  },
  {
   "cell_type": "code",
   "execution_count": 26,
   "metadata": {},
   "outputs": [],
   "source": [
    "# data_path = \"D:/bootcamp/original/\"\n",
    "# folder_names= [\"train_folder\", \"val_folder\"]\n",
    "# pre_process.createfolders(data_path,folder_names)"
   ]
  },
  {
   "cell_type": "code",
   "execution_count": 27,
   "metadata": {},
   "outputs": [],
   "source": [
    "# Just run it once because it moves permanently\n",
    "#     train_x move img to train_folder\n",
    "# train_path = \"D:/bootcamp/original/train_folder/\"\n",
    "# valid_path = \"D:/bootcamp/original/val_folder1/\"\n",
    "# pre_process.move_images(train_x, train_path)\n",
    "# pre_process.move_images(valid_x, valid_path)"
   ]
  },
  {
   "cell_type": "code",
   "execution_count": 28,
   "metadata": {},
   "outputs": [],
   "source": [
    "# For training folder\n",
    "# data_path = \"D:/bootcamp/original/try_train/\"\n",
    "# folder_names= [\"CE\", \"LAA\"]\n",
    "# pre_process.createfolders(data_path,folder_names)"
   ]
  },
  {
   "cell_type": "code",
   "execution_count": 29,
   "metadata": {},
   "outputs": [],
   "source": [
    "# For validation folder\n",
    "# data_path = \"D:/bootcamp/original/try_val/\"\n",
    "# folder_names= [\"CE\", \"LAA\"]\n",
    "# pre_process.createfolders(data_path,folder_names)"
   ]
  },
  {
   "cell_type": "code",
   "execution_count": 30,
   "metadata": {},
   "outputs": [],
   "source": [
    "# Just run it once because it moves permanently\n",
    "#      For the train folder\n",
    "# folder_path_CE = \"D:/bootcamp/original/train_folder/CE/\"\n",
    "# folder_path_LAA = \"D:/bootcamp/original/train_folder/LAA/\"\n",
    "# pre_process.images_class(train3, folder_path_CE, folder_path_LAA)"
   ]
  },
  {
   "cell_type": "code",
   "execution_count": 31,
   "metadata": {},
   "outputs": [],
   "source": [
    "# Just run it once because it moves permanently\n",
    "    # For the validation folder\n",
    "# folder_path_CE = \"D:/bootcamp/original/val_folder1/CE/\"\n",
    "# folder_path_LAA = \"D:/bootcamp/original/val_folder1/LAA/\"\n",
    "# pre_process.images_class(val2, folder_path_CE, folder_path_LAA)"
   ]
  },
  {
   "cell_type": "code",
   "execution_count": 32,
   "metadata": {},
   "outputs": [],
   "source": [
    "# So I can plot all images regardless of the amount of pixels:\n",
    "Image.MAX_IMAGE_PIXELS = 3000000000 \n",
    "K.set_learning_phase(1)\n",
    "\n",
    "# nb_train_samples = 2  \n",
    "# nb_validation_samples = 4  \n",
    "\n",
    "n_classes = 2 "
   ]
  },
  {
   "cell_type": "code",
   "execution_count": 33,
   "metadata": {},
   "outputs": [
    {
     "name": "stdout",
     "output_type": "stream",
     "text": [
      "Found 80 images belonging to 2 classes.\n",
      "Found 20 images belonging to 2 classes.\n"
     ]
    }
   ],
   "source": [
    "train_generator, test_generator = pre_process.image_generator()\n"
   ]
  }
 ],
 "metadata": {
  "kernelspec": {
   "display_name": "final",
   "language": "python",
   "name": "python3"
  },
  "language_info": {
   "codemirror_mode": {
    "name": "ipython",
    "version": 3
   },
   "file_extension": ".py",
   "mimetype": "text/x-python",
   "name": "python",
   "nbconvert_exporter": "python",
   "pygments_lexer": "ipython3",
   "version": "3.10.13"
  }
 },
 "nbformat": 4,
 "nbformat_minor": 5
}
